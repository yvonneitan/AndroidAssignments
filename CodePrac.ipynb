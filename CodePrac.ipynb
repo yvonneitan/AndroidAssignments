{
  "nbformat": 4,
  "nbformat_minor": 0,
  "metadata": {
    "colab": {
      "provenance": [],
      "authorship_tag": "ABX9TyMzcScayBm72OMx1k/G3RoE",
      "include_colab_link": true
    },
    "kernelspec": {
      "name": "python3",
      "display_name": "Python 3"
    },
    "language_info": {
      "name": "python"
    }
  },
  "cells": [
    {
      "cell_type": "markdown",
      "metadata": {
        "id": "view-in-github",
        "colab_type": "text"
      },
      "source": [
        "<a href=\"https://colab.research.google.com/github/yvonneitan/AndroidAssignments/blob/master/CodePrac.ipynb\" target=\"_parent\"><img src=\"https://colab.research.google.com/assets/colab-badge.svg\" alt=\"Open In Colab\"/></a>"
      ]
    },
    {
      "cell_type": "code",
      "execution_count": null,
      "metadata": {
        "id": "uMmj9jhRkavh"
      },
      "outputs": [],
      "source": [
        "\n",
        "# Write a program that prints the numbers from 1 to 100.\n",
        "# But for multiples of three print “Fizz” instead of the number and for the multiples of five print “Buzz”.\n",
        "# For numbers which are multiples of both three and five print “FizzBuzz”.\n",
        "\n",
        "def fizzBuzz():\n",
        "    n=100\n",
        "    for i in range (1,n+1):\n",
        "        if i%3==0 and i%5==0:\n",
        "            print(\"FizzBuzz\")\n",
        "        elif i%3==0:\n",
        "            print(\"Fizz\")\n",
        "        elif i%5==0:\n",
        "            print(\"Buzz\")\n",
        "        else:\n",
        "            print(i)\n",
        "fizzBuzz()\n"
      ]
    },
    {
      "cell_type": "code",
      "source": [
        "\"\"\"\n",
        "In a language of your preference (eg. Java, Python, etc) write a function that calculates and returns the amount of tax owing given an input value of income. The calculation should use progressive tax brackets like many countries use with these values:\n",
        "    - The first $50,000 of income is taxed at 15%\n",
        "    - Income between $50,000 and $100,000 is taxed at 20%\n",
        "    - Any income above $100,000, income is taxed at 30%\n",
        "\n",
        "Some example values:\n",
        "Income / Tax\n",
        "$50,000 / $7,500\n",
        "$75,000 / $12,500\n",
        "$150,000 / $32,500\n",
        "\n",
        "Yvonne's Solution\n",
        "\n",
        "\"\"\"\n",
        "\n",
        "\n",
        "\"\"\"\n",
        "Improvements to be made\n",
        "\n",
        "Initializing both taxes and amount for easier future updates\n",
        "Block Documentation for better reading\n",
        "Chance the formart to 2dcp for easy readability\n",
        "Validating the input first befor converting to float\n",
        "\n",
        "\"\"\"\n",
        "\n",
        "\n",
        "\n",
        "# Tax Calculation function\n",
        "def taxCalc(income):\n",
        "\n",
        "    try:\n",
        "        # converting the income value to a float number\n",
        "        your_income = float(income)\n",
        "\n",
        "        # Taking care of a -ve income value entered\n",
        "        if your_income < 0:\n",
        "            print(\"Please enter a non-negative income value\")\n",
        "            return None\n",
        "\n",
        "        # Tax Calculations if the income value is less or equal to $50000\n",
        "        if your_income<=50000:\n",
        "            tax_owing=your_income*0.15\n",
        "\n",
        "        # Tax Calculations if the income value is between $50,000 and $100,000\n",
        "        elif your_income <=100000:\n",
        "            tax_owing=50000*0.15 + (your_income-50000)*0.20\n",
        "\n",
        "        # Tax Calculations if the income value is above $100,000\n",
        "        else:\n",
        "            tax_owing=50000*0.15 +50000*0.20 +(your_income-100000)*0.30\n",
        "\n",
        "        return tax_owing\n",
        "\n",
        "    except ValueError:\n",
        "        print(\"Invalid input. Please enter a valid numeric value.\")\n",
        "        return None\n",
        "\n",
        "\n",
        "# Testing the function\n",
        "income = input(\"Enter your income: \")\n",
        "tax_amount = taxCalc(income)\n",
        "if tax_amount is not None:\n",
        "    print(\"The amount of tax owing is:${:.2f}\", tax_amount)\n"
      ],
      "metadata": {
        "id": "ljWDphJAYkFO"
      },
      "execution_count": null,
      "outputs": []
    },
    {
      "cell_type": "code",
      "source": [
        "# Constants\n",
        "TAX_RATE_1 = 0.15\n",
        "TAX_RATE_2 = 0.20\n",
        "TAX_RATE_3 = 0.30\n",
        "INCOME_THRESHOLD_1 = 50000\n",
        "INCOME_THRESHOLD_2 = 100000\n",
        "\n",
        "def taxCalc(income):\n",
        "    try:\n",
        "        # Validate input\n",
        "        your_income = float(income)\n",
        "\n",
        "        if your_income < 0:\n",
        "            print(\"Please enter a non-negative income value\")\n",
        "            return None\n",
        "\n",
        "        # Tax Calculations\n",
        "        if your_income <= INCOME_THRESHOLD_1:\n",
        "            tax_owing = your_income * TAX_RATE_1\n",
        "        elif your_income <= INCOME_THRESHOLD_2:\n",
        "            tax_owing = INCOME_THRESHOLD_1 * TAX_RATE_1 + (your_income - INCOME_THRESHOLD_1) * TAX_RATE_2\n",
        "        else:\n",
        "            tax_owing = INCOME_THRESHOLD_1 * TAX_RATE_1 + (INCOME_THRESHOLD_2 - INCOME_THRESHOLD_1) * TAX_RATE_2 +\\\n",
        "             (your_income - INCOME_THRESHOLD_2) * TAX_RATE_3\n",
        "\n",
        "        return tax_owing\n",
        "\n",
        "    except ValueError:\n",
        "        print(\"Invalid input. Please enter a valid numeric value.\")\n",
        "        return None\n",
        "\n",
        "\n",
        "\n",
        "# Testing the function\n",
        "income = input(\"Enter your income: \")\n",
        "\n",
        "tax_amount = taxCalc(income)\n",
        "if tax_amount is not None:\n",
        "    print(\"The amount of tax owing is: ${:.2f}\".format(tax_amount))\n"
      ],
      "metadata": {
        "id": "s0bMImpwZ0Hu"
      },
      "execution_count": null,
      "outputs": []
    },
    {
      "cell_type": "code",
      "source": [
        "# Adding values in an array\n",
        "\n",
        "def simpleArraySum(ar):\n",
        "    # Write your code here\n",
        "    sum=0\n",
        "    for i in ar:\n",
        "        sum+=i\n",
        "    return sum\n",
        "\n",
        "print(\"The sum is:\\n\")\n",
        "simpleArraySum([1,2,4,5,6,8,6])"
      ],
      "metadata": {
        "id": "GeRO32p4ldAi"
      },
      "execution_count": null,
      "outputs": []
    },
    {
      "cell_type": "code",
      "source": [
        "\n",
        "\n",
        "\n",
        "def compareTriplets(a, b):\n",
        "    # Write your code here\n",
        "    apoints=0\n",
        "    bpoints=0\n",
        "    results=[]\n",
        "    for i in range(len(a)):\n",
        "        if a[i]>b[i]:\n",
        "            apoints+=1\n",
        "        elif a[i]<b[i]:\n",
        "            bpoints+=1\n",
        "\n",
        "    results=[apoints, bpoints]\n",
        "    return results\n"
      ],
      "metadata": {
        "id": "aYZeTvcGlbaF"
      },
      "execution_count": null,
      "outputs": []
    },
    {
      "cell_type": "code",
      "source": [
        "# Given values of two values n1 and n2 in a Binary Search Tree,\n",
        "# find the Lowest Common Ancestor (LCA).\n",
        "# You may assume that both the values exist in the tree.\n",
        "\n",
        "class TreeNode:\n",
        "    def __init__(self, val):\n",
        "        self.val = val\n",
        "        self.left = None\n",
        "        self.right = None\n",
        "\n",
        "def lowestCommonAncestor(root, n1, n2):\n",
        "    while root:\n",
        "        # If both n1 and n2 are greater than the current node's value\n",
        "        if root.val < n1 and root.val < n2:\n",
        "            root = root.right\n",
        "        # If both n1 and n2 are smaller than the current node's value\n",
        "        elif root.val > n1 and root.val > n2:\n",
        "            root = root.left\n",
        "        else:\n",
        "            # If one value is smaller and the other value is greater than the value of the current node,\n",
        "            # then the current node is the LCA\n",
        "            return root\n",
        "\n",
        "# Example usage:\n",
        "# Construct the binary search tree\n",
        "root = TreeNode(20)\n",
        "root.left = TreeNode(10)\n",
        "root.right = TreeNode(30)\n",
        "root.left.left = TreeNode(5)\n",
        "root.left.right = TreeNode(15)\n",
        "root.right.left = TreeNode(25)\n",
        "root.right.right = TreeNode(35)\n",
        "\n",
        "# Find the lowest common ancestor of 5 and 15\n",
        "lca_node = lowestCommonAncestor(root, 5, 15)\n",
        "print(\"Lowest Common Ancestor of 5 and 15 is:\", lca_node.val)  # Output: 10\n",
        "\n",
        "\n",
        "\n",
        "\n",
        "\n",
        "class TreeNode:\n",
        "    def __init__(self, val):\n",
        "        self.val = val\n",
        "        self.left = None\n",
        "        self.right = None\n",
        "\n",
        "def lowestCommonAncestor(root, n1, n2):\n",
        "    # Base case: If the root is None or matches either n1 or n2, return root\n",
        "    if root is None or root.val == n1 or root.val == n2:\n",
        "        return root\n",
        "\n",
        "    # Look for keys in the left and right subtrees\n",
        "    left_lca = lowestCommonAncestor(root.left, n1, n2)\n",
        "    right_lca = lowestCommonAncestor(root.right, n1, n2)\n",
        "\n",
        "    # If both left_lca and right_lca are not None, then n1 and n2 are on both sides\n",
        "    # of the current node, and the current node is the LCA\n",
        "    if left_lca and right_lca:\n",
        "        return root\n",
        "\n",
        "    # Otherwise, return the non-None node\n",
        "    return left_lca if left_lca is not None else right_lca\n",
        "\n",
        "# Example usage:\n",
        "# Construct the binary search tree\n",
        "root = TreeNode(20)\n",
        "root.left = TreeNode(10)\n",
        "root.right = TreeNode(30)\n",
        "root.left.left = TreeNode(5)\n",
        "root.left.right = TreeNode(15)\n",
        "root.right.left = TreeNode(25)\n",
        "root.right.right = TreeNode(35)\n",
        "\n",
        "# Find the lowest common ancestor of 5 and 15\n",
        "lca_node = lowestCommonAncestor(root, 5, 15)\n",
        "print(\"Lowest Common Ancestor of 5 and 15 is:\", lca_node.val)  # Output: 10\n",
        "\n",
        "\n",
        "\n"
      ],
      "metadata": {
        "id": "HBJtu7oalRDI"
      },
      "execution_count": null,
      "outputs": []
    },
    {
      "cell_type": "code",
      "source": [
        "def diagonalDifference(arr):\n",
        "    # Write your code here\n",
        "    sum1=0\n",
        "    sum2=0\n",
        "    for i in range(len(arr)):\n",
        "        sum1+=arr[i][i]\n",
        "        sum2+=arr[i][len(arr)-1-i]\n",
        "    return abs(sum1-sum2)\n",
        "\n",
        "diagonalDifference([[3],[11, 2, 4],\n",
        "[4, 5 ,6],[10, 8, -12]])\n",
        "\n"
      ],
      "metadata": {
        "id": "G1lwX7BalNrq"
      },
      "execution_count": null,
      "outputs": []
    },
    {
      "cell_type": "code",
      "source": [
        "\n",
        "\n",
        "#\n",
        "# Complete the 'plusMinus' function below.\n",
        "#\n",
        "# The function accepts INTEGER_ARRAY arr as parameter.\n",
        "#\n",
        "\n",
        "def plusMinus(arr):\n",
        "    # Write your code here\n",
        "    poscount=0\n",
        "    negcount=0\n",
        "    zcount=0\n",
        "    tot=len(arr)\n",
        "\n",
        "    for i in arr:\n",
        "        if i>0:\n",
        "            poscount+=1\n",
        "        elif i<0:\n",
        "            negcount+=1\n",
        "        else:\n",
        "            zcount+=1\n",
        "\n",
        "    posrat=poscount/tot\n",
        "    negrat=negcount/tot\n",
        "    zrat=zcount/tot\n",
        "\n",
        "    return posrat, negrat, zrat\n",
        "\n",
        "if __name__ == '__main__':\n",
        "    n = int(input().strip())\n",
        "\n",
        "    arr = list(map(int, input().rstrip().split()))\n",
        "\n",
        "    posrat, negrat, zrat = plusMinus(arr)\n",
        "\n",
        "    print(\"{:.6f}\".format(posrat))\n",
        "    print(\"{:.6f}\".format(negrat))\n",
        "    print(\"{:.6f}\".format(zrat))\n",
        "\n"
      ],
      "metadata": {
        "id": "yDincYyclK6r"
      },
      "execution_count": null,
      "outputs": []
    },
    {
      "cell_type": "code",
      "source": [
        "\n",
        "\n",
        "#\n",
        "# Complete the 'staircase' function below.\n",
        "#\n",
        "# The function accepts INTEGER n as parameter.\n",
        "#\n",
        "\n",
        "def staircase(n):\n",
        "    # Iterate over each row\n",
        "    for i in range(1, n + 1):\n",
        "        # Print spaces for alignment\n",
        "        for j in range(n - i):\n",
        "            print(\" \", end=\"\")\n",
        "        # Print \"#\" symbols for the staircase\n",
        "        for k in range(i):\n",
        "            print(\"#\", end=\"\")\n",
        "        # Move to the next line after printing each row\n",
        "        print()\n",
        "\n",
        "# Example usage:\n",
        "staircase(5)\n",
        "\n"
      ],
      "metadata": {
        "id": "PkHQ6ypFlIqm"
      },
      "execution_count": null,
      "outputs": []
    },
    {
      "cell_type": "code",
      "source": [
        "\n",
        "\n",
        "def miniMaxSum(arr):\n",
        "    arr.sort()\n",
        "\n",
        "    summin = sum(arr[:-1])\n",
        "    summax = sum(arr[1:])\n",
        "\n",
        "    print(summin, summax)\n",
        "\n",
        "\n",
        "\n",
        "\n",
        "def miniMaxSum(arr):\n",
        "    # Write your code here\n",
        "\n",
        "    arr.sort()\n",
        "    n=len(arr)\n",
        "    sumMin= sum(arr[:n-1])\n",
        "    sumMax=sum(arr[1:])\n",
        "\n",
        "    print(sumMin, sumMax)\n",
        "\n",
        "\n",
        "if __name__ == '__main__':\n",
        "    arr = list(map(int, input().rstrip().split()))\n",
        "\n",
        "    miniMaxSum(arr)\n"
      ],
      "metadata": {
        "id": "aJsn2N00lGdA"
      },
      "execution_count": null,
      "outputs": []
    },
    {
      "cell_type": "code",
      "source": [
        "def timeConversion(s):\n",
        "    # Write your code here\n",
        "    # grabing the values of the each time part\n",
        "\n",
        "    hour = int(s[0:2])\n",
        "    minute = int(s[3:5])\n",
        "    second = int(s[6:8])\n",
        "    period = s[8:]\n",
        "\n",
        "    if period==\"PM\" and hour!=12:\n",
        "        hour+=12\n",
        "    elif period==\"AM\" and hour == 12:\n",
        "        hour=0\n",
        "    return \"{:02d}:{:02d}:{:02d}\".format(hour, minute, second)\n",
        "\n",
        "\n",
        "\n",
        "\n",
        "\n",
        "if __name__ == '__main__':\n",
        "    fptr = open(os.environ['OUTPUT_PATH'], 'w')\n",
        "\n",
        "    s = input()\n",
        "\n",
        "    result = timeConversion(s)\n",
        "\n",
        "    fptr.write(result + '\\n')\n",
        "\n",
        "    fptr.close()\n"
      ],
      "metadata": {
        "id": "aA34I7jilDTK"
      },
      "execution_count": null,
      "outputs": []
    },
    {
      "cell_type": "code",
      "source": [
        "\n",
        "#      * Complete the 'diagonalDifference' function below.\n",
        "#      *\n",
        "#      * The function is expected to return an INTEGER.\n",
        "#      * The function accepts 2D_INTEGER_ARRAY arr as parameter.\n",
        "#      */\n",
        "\n",
        "public static int diagonalDifference(List<List<Integer>> arr) {\n",
        "// Write your code here\n",
        "int n = arr.size();\n",
        "  int sum1 = 0, sum2 = 0;\n",
        "  for (int i = 0; i < n; i++) {\n",
        "      sum1 += arr.get(i).get(i);\n",
        "      sum2 += arr.get(i).get(n - i - 1);\n",
        "  }\n",
        "  return Math.abs(sum1 - sum2);\n",
        "\n",
        "\n",
        "\n",
        "}\n"
      ],
      "metadata": {
        "id": "P3_r4DRvkDkW"
      },
      "execution_count": null,
      "outputs": []
    },
    {
      "cell_type": "markdown",
      "source": [
        "#Data Structure"
      ],
      "metadata": {
        "id": "-57-2fDnnBT1"
      }
    },
    {
      "cell_type": "markdown",
      "source": [
        "#Arrays\n"
      ],
      "metadata": {
        "id": "p_CpkIhdnRzr"
      }
    },
    {
      "cell_type": "code",
      "source": [
        "# importing \"array\" for array operations\n",
        "import array\n",
        "\n",
        "# initializing array with array values and signed integers\n",
        "arr = array.array('i', [1, 2, 3])\n",
        "# printing original array\n",
        "print (\"The new created array is : \",end=\" \")\n",
        "for i in range (0, 3):\n",
        "    print (arr[i], end=\" \")\n",
        "print(\"\\r\")\n",
        "\n",
        "# Append\n",
        "# using append() to insert new value at end\n",
        "arr.append(4);\n",
        "\n",
        "# printing appended array\n",
        "print(\"The appended array is : \", end=\"\")\n",
        "for i in range (len(arr)):\n",
        "    print (arr[i], end=\" \")\n",
        "print(\"\\r\")\n",
        "\n",
        "\n",
        "# Insert\n",
        "arr.insert(2,5)\n",
        "print(\"The new array with inserted values is : \", end=\"\")\n",
        "for i in range(len(arr)):\n",
        "  print(arr[i], end=\" \")\n",
        "\n",
        "# Pop\n",
        "\n",
        "# using pop() to remove element at 2nd position\n",
        "print (\"The popped element is : \",end=\"\")\n",
        "print (arr.pop(2));\n",
        "\n",
        "# printing array after popping\n",
        "print (\"The array after popping is : \",end=\"\")\n",
        "for i in range (len(arr)):\n",
        "    print (arr[i],end=\" \")\n",
        "print(\"\\r\")\n",
        "\n",
        "\n",
        "\n"
      ],
      "metadata": {
        "id": "fhm-JT9Om_jw"
      },
      "execution_count": null,
      "outputs": []
    },
    {
      "cell_type": "markdown",
      "source": [
        "#Sorting"
      ],
      "metadata": {
        "id": "JgglVh5LgPGC"
      }
    },
    {
      "cell_type": "code",
      "source": [
        "# Python program for implementation of Selection\n",
        "# Sort\n",
        "import sys\n",
        "A = [64, 25, 12, 22, 11]\n",
        "\n",
        "# Traverse through all array elements\n",
        "for i in range(len(A)):\n",
        "\n",
        "\t# Find the minimum element in remaining\n",
        "\t# unsorted array\n",
        "\tmin_idx = i\n",
        "\tfor j in range(i+1, len(A)):\n",
        "\t\tif A[min_idx] > A[j]:\n",
        "\t\t\tmin_idx = j\n",
        "\n",
        "\t# Swap the found minimum element with\n",
        "\t# the first element\n",
        "\tA[i], A[min_idx] = A[min_idx], A[i]\n",
        "\n",
        "# Driver code to test above\n",
        "print (\"Sorted array\")\n",
        "for i in range(len(A)):\n",
        "\tprint(\"%d\" %A[i],end=\" , \")\n"
      ],
      "metadata": {
        "id": "xItxSgXUgK26"
      },
      "execution_count": null,
      "outputs": []
    },
    {
      "cell_type": "markdown",
      "source": [
        "# 1.Array"
      ],
      "metadata": {
        "id": "I-X1H-4gj9Dg"
      }
    },
    {
      "cell_type": "code",
      "source": [
        "class Array:\n",
        "    def __init__(self):\n",
        "        self.data = []\n",
        "\n",
        "    def get(self, index):\n",
        "        return self.data[index]\n",
        "\n",
        "    def push(self, item):\n",
        "        self.data.append(item)\n",
        "\n",
        "    def pop(self):\n",
        "        return self.data.pop()\n",
        "\n",
        "    def delete(self, index):\n",
        "        del self.data[index]\n"
      ],
      "metadata": {
        "id": "pEAygEcWiN4e"
      },
      "execution_count": null,
      "outputs": []
    },
    {
      "cell_type": "markdown",
      "source": [
        "# 2.LinkedList"
      ],
      "metadata": {
        "id": "NqPe7g4cj_Oe"
      }
    },
    {
      "cell_type": "code",
      "source": [
        "class Node:\n",
        "    def __init__(self, data):\n",
        "        self.data = data\n",
        "        self.next = None\n",
        "\n",
        "class LinkedList:\n",
        "    def __init__(self):\n",
        "        self.head = None\n",
        "\n",
        "    def append(self, data):\n",
        "        new_node = Node(data)\n",
        "        if not self.head:\n",
        "            self.head = new_node\n",
        "            return\n",
        "        last_node = self.head\n",
        "        while last_node.next:\n",
        "            last_node = last_node.next\n",
        "        last_node.next = new_node\n",
        "\n",
        "    def prepend(self, data):\n",
        "        new_node = Node(data)\n",
        "        new_node.next = self.head\n",
        "        self.head = new_node\n",
        "\n",
        "    def delete(self, data):\n",
        "        if not self.head:\n",
        "            return\n",
        "        if self.head.data == data:\n",
        "            self.head = self.head.next\n",
        "            return\n",
        "        current_node = self.head\n",
        "        while current_node.next:\n",
        "            if current_node.next.data == data:\n",
        "                current_node.next = current_node.next.next\n",
        "                return\n",
        "            current_node = current_node.next\n",
        "\n",
        "    def print_list(self):\n",
        "        current_node = self.head\n",
        "        while current_node:\n",
        "            print(current_node.data, end=\" -> \")\n",
        "            current_node = current_node.next\n",
        "        print(\"None\")\n"
      ],
      "metadata": {
        "id": "2lLyXvOViPBi"
      },
      "execution_count": null,
      "outputs": []
    },
    {
      "cell_type": "markdown",
      "source": [
        "#3. Stack"
      ],
      "metadata": {
        "id": "TTkUAzzDkKlN"
      }
    },
    {
      "cell_type": "code",
      "source": [
        "class Stack:\n",
        "    def __init__(self):\n",
        "        self.items = []\n",
        "\n",
        "    def is_empty(self):\n",
        "        return len(self.items) == 0\n",
        "\n",
        "    def push(self, item):\n",
        "        self.items.append(item)\n",
        "\n",
        "    def pop(self):\n",
        "        if not self.is_empty():\n",
        "            return self.items.pop()\n",
        "\n",
        "    def peek(self):\n",
        "        if not self.is_empty():\n",
        "            return self.items[-1]\n",
        "\n",
        "    def size(self):\n",
        "        return len(self.items)\n"
      ],
      "metadata": {
        "id": "R7l45g0Oia25"
      },
      "execution_count": null,
      "outputs": []
    },
    {
      "cell_type": "markdown",
      "source": [
        "# 4. Queue"
      ],
      "metadata": {
        "id": "nR1yg3ewkT8h"
      }
    },
    {
      "cell_type": "code",
      "source": [
        "class Queue:\n",
        "    def __init__(self):\n",
        "        self.items = []\n",
        "\n",
        "    def is_empty(self):\n",
        "        return len(self.items) == 0\n",
        "\n",
        "    def enqueue(self, item):\n",
        "        self.items.append(item)\n",
        "\n",
        "    def dequeue(self):\n",
        "        if not self.is_empty():\n",
        "            return self.items.pop(0)\n",
        "\n",
        "    def peek(self):\n",
        "        if not self.is_empty():\n",
        "            return self.items[0]\n",
        "\n",
        "    def size(self):\n",
        "        return len(self.items)\n"
      ],
      "metadata": {
        "id": "MVnxskiVidgW"
      },
      "execution_count": null,
      "outputs": []
    },
    {
      "cell_type": "markdown",
      "source": [
        "# 5 BinaryTree"
      ],
      "metadata": {
        "id": "wlhlvl1tkXJf"
      }
    },
    {
      "cell_type": "code",
      "source": [
        "class TreeNode:\n",
        "    def __init__(self, value):\n",
        "        self.value = value\n",
        "        self.left = None\n",
        "        self.right = None\n",
        "\n",
        "class BinaryTree:\n",
        "    def __init__(self, root_value):\n",
        "        self.root = TreeNode(root_value)\n",
        "\n",
        "    def preorder_traversal(self, node):\n",
        "        if node:\n",
        "            print(node.value, end=\" \")\n",
        "            self.preorder_traversal(node.left)\n",
        "            self.preorder_traversal(node.right)\n",
        "\n",
        "    def inorder_traversal(self, node):\n",
        "        if node:\n",
        "            self.inorder_traversal(node.left)\n",
        "            print(node.value, end=\" \")\n",
        "            self.inorder_traversal(node.right)\n",
        "\n",
        "    def postorder_traversal(self, node):\n",
        "        if node:\n",
        "            self.postorder_traversal(node.left)\n",
        "            self.postorder_traversal(node.right)\n",
        "            print(node.value, end=\" \")\n",
        "\n"
      ],
      "metadata": {
        "id": "jcg_fsW7ijHw"
      },
      "execution_count": null,
      "outputs": []
    },
    {
      "cell_type": "markdown",
      "source": [
        "# 6. HashTable (Dictionary)"
      ],
      "metadata": {
        "id": "bVDrT4u5kdx1"
      }
    },
    {
      "cell_type": "code",
      "source": [
        "class HashTable:\n",
        "    def __init__(self):\n",
        "        self.size = 10\n",
        "        self.table = [[] for _ in range(self.size)]\n",
        "\n",
        "    def _hash_function(self, key):\n",
        "        return hash(key) % self.size\n",
        "\n",
        "    def insert(self, key, value):\n",
        "        hash_key = self._hash_function(key)\n",
        "        self.table[hash_key].append((key, value))\n",
        "\n",
        "    def search(self, key):\n",
        "        hash_key = self._hash_function(key)\n",
        "        for item in self.table[hash_key]:\n",
        "            if item[0] == key:\n",
        "                return item[1]\n",
        "        raise KeyError(f\"Key '{key}' not found\")\n",
        "\n",
        "    def delete(self, key):\n",
        "        hash_key = self._hash_function(key)\n",
        "        for i, item in enumerate(self.table[hash_key]):\n",
        "            if item[0] == key:\n",
        "                del self.table[hash_key][i]\n",
        "                return\n",
        "        raise KeyError(f\"Key '{key}' not found\")\n"
      ],
      "metadata": {
        "id": "4AhG5hz2ij-z"
      },
      "execution_count": null,
      "outputs": []
    },
    {
      "cell_type": "markdown",
      "source": [
        "#7. Binary Search Tree (BST)"
      ],
      "metadata": {
        "id": "4QtG2JB2kqeO"
      }
    },
    {
      "cell_type": "code",
      "source": [
        "class TreeNode:\n",
        "    def __init__(self, key):\n",
        "        self.key = key\n",
        "        self.left = None\n",
        "        self.right = None\n",
        "\n",
        "class BST:\n",
        "    def __init__(self):\n",
        "        self.root = None\n",
        "\n",
        "    def insert(self, key):\n",
        "        self.root = self._insert_recursively(self.root, key)\n",
        "\n",
        "    def _insert_recursively(self, root, key):\n",
        "        if root is None:\n",
        "            return TreeNode(key)\n",
        "        if key < root.key:\n",
        "            root.left = self._insert_recursively(root.left, key)\n",
        "        else:\n",
        "            root.right = self._insert_recursively(root.right, key)\n",
        "        return root\n",
        "\n",
        "    def search(self, key):\n",
        "        return self._search_recursively(self.root, key)\n",
        "\n",
        "    def _search_recursively(self, root, key):\n",
        "        if root is None or root.key == key:\n",
        "            return root\n",
        "        if key < root.key:\n",
        "            return self._search_recursively(root.left, key)\n",
        "        return self._search_recursively(root.right, key)\n"
      ],
      "metadata": {
        "id": "9jjeJgj5i4Z8"
      },
      "execution_count": null,
      "outputs": []
    },
    {
      "cell_type": "markdown",
      "source": [
        "#8. MinHeap"
      ],
      "metadata": {
        "id": "WXMBOtvlksim"
      }
    },
    {
      "cell_type": "code",
      "source": [
        "class MinHeap:\n",
        "    def __init__(self):\n",
        "        self.heap = []\n",
        "\n",
        "    def insert(self, value):\n",
        "        self.heap.append(value)\n",
        "        self._bubble_up(len(self.heap) - 1)\n",
        "\n",
        "    def _bubble_up(self, index):\n",
        "        while index > 0:\n",
        "            parent_index = (index - 1) // 2\n",
        "            if self.heap[parent_index] > self.heap[index]:\n",
        "                self.heap[parent_index], self.heap[index] = self.heap[index], self.heap[parent_index]\n",
        "                index = parent_index\n",
        "            else:\n",
        "                break\n",
        "\n",
        "    def extract_min(self):\n",
        "        if len(self.heap) == 0:\n",
        "            return None\n",
        "        if len(self.heap) == 1:\n",
        "            return self.heap.pop()\n",
        "        min_val = self.heap[0]\n",
        "        self.heap[0] = self.heap.pop()\n",
        "        self._bubble_down(0)\n",
        "        return min_val\n",
        "\n",
        "    def _bubble_down(self, index):\n",
        "        while index < len(self.heap):\n",
        "            left_child_index = 2 * index + 1\n",
        "            right_child_index = 2 * index + 2\n",
        "            min_index = index\n",
        "            if left_child_index < len(self.heap) and self.heap[left_child_index] < self.heap[min_index]:\n",
        "                min_index = left_child_index\n",
        "            if right_child_index < len(self.heap) and self.heap[right_child_index] < self.heap[min_index]:\n",
        "                min_index = right_child_index\n",
        "            if min_index != index:\n",
        "                self.heap[min_index], self.heap[index] = self.heap[index], self.heap[min_index]\n",
        "                index = min_index\n",
        "            else:\n",
        "                break\n"
      ],
      "metadata": {
        "id": "pnF18aMri72r"
      },
      "execution_count": null,
      "outputs": []
    },
    {
      "cell_type": "markdown",
      "source": [
        "#9. MaxHeap"
      ],
      "metadata": {
        "id": "3Yu-Jy4ekvfr"
      }
    },
    {
      "cell_type": "code",
      "source": [
        "class MaxHeap:\n",
        "    def __init__(self):\n",
        "        self.heap = []\n",
        "\n",
        "    def insert(self, value):\n",
        "        self.heap.append(value)\n",
        "        self._bubble_up(len(self.heap) - 1)\n",
        "\n",
        "    def _bubble_up(self, index):\n",
        "        while index > 0:\n",
        "            parent_index = (index - 1) // 2\n",
        "            if self.heap[parent_index] < self.heap[index]:\n",
        "                self.heap[parent_index], self.heap[index] = self.heap[index], self.heap[parent_index]\n",
        "                index = parent_index\n",
        "            else:\n",
        "                break\n",
        "\n",
        "    def extract_max(self):\n",
        "        if len(self.heap) == 0:\n",
        "            return None\n",
        "        if len(self.heap) == 1:\n",
        "            return self.heap.pop()\n",
        "        max_val = self.heap[0]\n",
        "        self.heap[0] = self.heap.pop()\n",
        "        self._bubble_down(0)\n",
        "        return max_val\n",
        "\n",
        "    def _bubble_down(self, index):\n",
        "        while index < len(self.heap):\n",
        "            left_child_index = 2 * index + 1\n",
        "            right_child_index = 2 * index + 2\n",
        "            max_index = index\n",
        "            if left_child_index < len(self.heap) and self.heap[left_child_index] > self.heap[max_index]:\n",
        "                max_index = left_child_index\n",
        "            if right_child_index < len(self.heap) and self.heap[right_child_index] > self.heap[max_index]:\n",
        "                max_index = right_child_index\n",
        "            if max_index != index:\n",
        "                self.heap[max_index], self.heap[index] = self.he\n"
      ],
      "metadata": {
        "id": "pI_YNK21jRD4"
      },
      "execution_count": null,
      "outputs": []
    },
    {
      "cell_type": "markdown",
      "source": [
        "#1. Array\n",
        "Access: O(1)\n",
        "Insertion (at the end): O(1) amortized (assuming dynamic array resizing)\n",
        "Insertion (at arbitrary position): O(n)\n",
        "Deletion (at the end): O(1) amortized (assuming dynamic array resizing)\n",
        "Deletion (at arbitrary position): O(n)\n",
        "Search: O(n)\n",
        "Space Complexity: O(n)\n",
        "#2. Linked List\n",
        "Access: O(n)\n",
        "Insertion (at the beginning): O(1)\n",
        "Insertion (at the end): O(n) if traversing from head, O(1) if keeping track of tail\n",
        "Deletion (at the beginning): O(1)\n",
        "Deletion (at the end): O(n) if traversing from head, O(1) if keeping track of tail\n",
        "Deletion (at arbitrary position): O(n)\n",
        "Search: O(n)\n",
        "Space Complexity: O(n)\n",
        "#3. Stack\n",
        "Push (Insertion): O(1)\n",
        "Pop (Deletion): O(1)\n",
        "Peek (Access): O(1)\n",
        "Search: O(n)\n",
        "Space Complexity: O(n)\n",
        "#4. Queue\n",
        "Enqueue (Insertion): O(1)\n",
        "Dequeue (Deletion): O(1)\n",
        "Peek (Access): O(1)\n",
        "Search: O(n)\n",
        "Space Complexity: O(n)\n",
        "#5. Binary Tree\n",
        "Search: O(log n) average, O(n) worst case (unbalanced tree)\n",
        "Insertion: O(log n) average, O(n) worst case (unbalanced tree)\n",
        "Deletion: O(log n) average, O(n) worst case (unbalanced tree)\n",
        "Space Complexity: O(n)\n",
        "#6. Hash Table (Dictionary)\n",
        "Insertion: O(1) average case, O(n) worst case\n",
        "Deletion: O(1) average case, O(n) worst case\n",
        "Search: O(1) average case, O(n) worst case\n",
        "Space Complexity: O(n)\n",
        "#7. Binary Search Tree (BST)\n",
        "Search: O(log n) average, O(n) worst case (unbalanced tree)\n",
        "Insertion: O(log n) average, O(n) worst case (unbalanced tree)\n",
        "Deletion: O(log n) average, O(n) worst case (unbalanced tree)\n",
        "Space Complexity: O(n)\n",
        "#8. Heap (Min-Heap)\n",
        "Insertion: O(log n)\n",
        "Deletion (Extract Min): O(log n)\n",
        "Search: O(n)\n",
        "Space Complexity: O(n)\n",
        "\n",
        "#9. Heap (Max-Heap)\n",
        "1. Insertion:\n",
        "Time Complexity: O(log n)\n",
        "The insertion operation involves adding a new element to the end of the heap and then restoring the heap property by bubbling up the element. In the worst case, the element may need to be moved up to the root, which takes O(log n) time.\n",
        "2. Extract Maximum (or Extract Max):\n",
        "Time Complexity: O(log n)\n",
        "The extract maximum operation involves removing the maximum element from the root of the heap and then restoring the heap property by bubbling down the element from the root to the bottom of the heap. In the worst case, the element may need to be moved down to the leaf level, which takes O(log n) time.\n",
        "3. Space Complexity:\n",
        "Space Complexity: O(n)\n",
        "The space complexity of a Max-Heap is O(n) because it requires an array-based storage of size n to hold the elements of the heap."
      ],
      "metadata": {
        "id": "tSLTyGhcjRzG"
      }
    }
  ]
}